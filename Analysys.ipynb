{
 "cells": [
  {
   "cell_type": "code",
   "execution_count": 1,
   "metadata": {},
   "outputs": [],
   "source": [
    "import pandas as pd\n",
    "\n",
    "import os"
   ]
  },
  {
   "cell_type": "markdown",
   "metadata": {},
   "source": [
    "Источник данных: https://www.kaggle.com/datasets/gopinath15/friends-netflix-script-data"
   ]
  },
  {
   "cell_type": "code",
   "execution_count": 2,
   "metadata": {},
   "outputs": [
    {
     "data": {
      "text/html": [
       "<div>\n",
       "<style scoped>\n",
       "    .dataframe tbody tr th:only-of-type {\n",
       "        vertical-align: middle;\n",
       "    }\n",
       "\n",
       "    .dataframe tbody tr th {\n",
       "        vertical-align: top;\n",
       "    }\n",
       "\n",
       "    .dataframe thead th {\n",
       "        text-align: right;\n",
       "    }\n",
       "</style>\n",
       "<table border=\"1\" class=\"dataframe\">\n",
       "  <thead>\n",
       "    <tr style=\"text-align: right;\">\n",
       "      <th></th>\n",
       "      <th>Text</th>\n",
       "      <th>Speaker</th>\n",
       "      <th>Episode</th>\n",
       "      <th>Season</th>\n",
       "      <th>Show</th>\n",
       "    </tr>\n",
       "  </thead>\n",
       "  <tbody>\n",
       "    <tr>\n",
       "      <th>0</th>\n",
       "      <td>Originally written by Marta Kauffman and David...</td>\n",
       "      <td>NaN</td>\n",
       "      <td>Episode-01-The One Where Monica Gets a New Roo...</td>\n",
       "      <td>Season-01</td>\n",
       "      <td>Friends</td>\n",
       "    </tr>\n",
       "    <tr>\n",
       "      <th>1</th>\n",
       "      <td>Transcribed by guineapig.</td>\n",
       "      <td>NaN</td>\n",
       "      <td>Episode-01-The One Where Monica Gets a New Roo...</td>\n",
       "      <td>Season-01</td>\n",
       "      <td>Friends</td>\n",
       "    </tr>\n",
       "    <tr>\n",
       "      <th>2</th>\n",
       "      <td>CENTRAL PERK. (ALL PRESENT EXCEPT RACHEL AND ...</td>\n",
       "      <td>SCENE 1</td>\n",
       "      <td>Episode-01-The One Where Monica Gets a New Roo...</td>\n",
       "      <td>Season-01</td>\n",
       "      <td>Friends</td>\n",
       "    </tr>\n",
       "    <tr>\n",
       "      <th>3</th>\n",
       "      <td>There's nothing to tell! He's just some guy I...</td>\n",
       "      <td>MONICA</td>\n",
       "      <td>Episode-01-The One Where Monica Gets a New Roo...</td>\n",
       "      <td>Season-01</td>\n",
       "      <td>Friends</td>\n",
       "    </tr>\n",
       "    <tr>\n",
       "      <th>4</th>\n",
       "      <td>C'mon, you're going out with the guy! There's...</td>\n",
       "      <td>JOEY</td>\n",
       "      <td>Episode-01-The One Where Monica Gets a New Roo...</td>\n",
       "      <td>Season-01</td>\n",
       "      <td>Friends</td>\n",
       "    </tr>\n",
       "    <tr>\n",
       "      <th>...</th>\n",
       "      <td>...</td>\n",
       "      <td>...</td>\n",
       "      <td>...</td>\n",
       "      <td>...</td>\n",
       "      <td>...</td>\n",
       "    </tr>\n",
       "    <tr>\n",
       "      <th>69969</th>\n",
       "      <td>Then I'm happy too. (They're still hugging - ...</td>\n",
       "      <td>Ross</td>\n",
       "      <td>Episode-15-The One Where Estelle Dies</td>\n",
       "      <td>Season-10</td>\n",
       "      <td>Friends</td>\n",
       "    </tr>\n",
       "    <tr>\n",
       "      <th>69970</th>\n",
       "      <td>COMMERCIAL BREAK</td>\n",
       "      <td>NaN</td>\n",
       "      <td>Episode-15-The One Where Estelle Dies</td>\n",
       "      <td>Season-10</td>\n",
       "      <td>Friends</td>\n",
       "    </tr>\n",
       "    <tr>\n",
       "      <th>69971</th>\n",
       "      <td>Estelle's memorial service. Joey is giving a ...</td>\n",
       "      <td>[Scene</td>\n",
       "      <td>Episode-15-The One Where Estelle Dies</td>\n",
       "      <td>Season-10</td>\n",
       "      <td>Friends</td>\n",
       "    </tr>\n",
       "    <tr>\n",
       "      <th>69972</th>\n",
       "      <td>Thank you all for coming. We're here today to...</td>\n",
       "      <td>Joey</td>\n",
       "      <td>Episode-15-The One Where Estelle Dies</td>\n",
       "      <td>Season-10</td>\n",
       "      <td>Friends</td>\n",
       "    </tr>\n",
       "    <tr>\n",
       "      <th>69973</th>\n",
       "      <td>THE END</td>\n",
       "      <td>NaN</td>\n",
       "      <td>Episode-15-The One Where Estelle Dies</td>\n",
       "      <td>Season-10</td>\n",
       "      <td>Friends</td>\n",
       "    </tr>\n",
       "  </tbody>\n",
       "</table>\n",
       "<p>69974 rows × 5 columns</p>\n",
       "</div>"
      ],
      "text/plain": [
       "                                                    Text  Speaker  \\\n",
       "0      Originally written by Marta Kauffman and David...      NaN   \n",
       "1                              Transcribed by guineapig.      NaN   \n",
       "2       CENTRAL PERK. (ALL PRESENT EXCEPT RACHEL AND ...  SCENE 1   \n",
       "3       There's nothing to tell! He's just some guy I...   MONICA   \n",
       "4       C'mon, you're going out with the guy! There's...     JOEY   \n",
       "...                                                  ...      ...   \n",
       "69969   Then I'm happy too. (They're still hugging - ...     Ross   \n",
       "69970                                   COMMERCIAL BREAK      NaN   \n",
       "69971   Estelle's memorial service. Joey is giving a ...   [Scene   \n",
       "69972   Thank you all for coming. We're here today to...     Joey   \n",
       "69973                                            THE END      NaN   \n",
       "\n",
       "                                                 Episode     Season     Show  \n",
       "0      Episode-01-The One Where Monica Gets a New Roo...  Season-01  Friends  \n",
       "1      Episode-01-The One Where Monica Gets a New Roo...  Season-01  Friends  \n",
       "2      Episode-01-The One Where Monica Gets a New Roo...  Season-01  Friends  \n",
       "3      Episode-01-The One Where Monica Gets a New Roo...  Season-01  Friends  \n",
       "4      Episode-01-The One Where Monica Gets a New Roo...  Season-01  Friends  \n",
       "...                                                  ...        ...      ...  \n",
       "69969              Episode-15-The One Where Estelle Dies  Season-10  Friends  \n",
       "69970              Episode-15-The One Where Estelle Dies  Season-10  Friends  \n",
       "69971              Episode-15-The One Where Estelle Dies  Season-10  Friends  \n",
       "69972              Episode-15-The One Where Estelle Dies  Season-10  Friends  \n",
       "69973              Episode-15-The One Where Estelle Dies  Season-10  Friends  \n",
       "\n",
       "[69974 rows x 5 columns]"
      ]
     },
     "execution_count": 2,
     "metadata": {},
     "output_type": "execute_result"
    }
   ],
   "source": [
    "DATA_FOLDER = 'data'\n",
    "\n",
    "df = pd.read_csv(os.path.join(DATA_FOLDER, 'Friends.csv'))\n",
    "df"
   ]
  },
  {
   "cell_type": "markdown",
   "metadata": {},
   "source": [
    "Удаляем столбцы с названием эпизода, сезона и шоу"
   ]
  },
  {
   "cell_type": "code",
   "execution_count": 3,
   "metadata": {},
   "outputs": [
    {
     "data": {
      "text/html": [
       "<div>\n",
       "<style scoped>\n",
       "    .dataframe tbody tr th:only-of-type {\n",
       "        vertical-align: middle;\n",
       "    }\n",
       "\n",
       "    .dataframe tbody tr th {\n",
       "        vertical-align: top;\n",
       "    }\n",
       "\n",
       "    .dataframe thead th {\n",
       "        text-align: right;\n",
       "    }\n",
       "</style>\n",
       "<table border=\"1\" class=\"dataframe\">\n",
       "  <thead>\n",
       "    <tr style=\"text-align: right;\">\n",
       "      <th></th>\n",
       "      <th>Text</th>\n",
       "      <th>Speaker</th>\n",
       "    </tr>\n",
       "  </thead>\n",
       "  <tbody>\n",
       "    <tr>\n",
       "      <th>0</th>\n",
       "      <td>Originally written by Marta Kauffman and David...</td>\n",
       "      <td>NaN</td>\n",
       "    </tr>\n",
       "    <tr>\n",
       "      <th>1</th>\n",
       "      <td>Transcribed by guineapig.</td>\n",
       "      <td>NaN</td>\n",
       "    </tr>\n",
       "    <tr>\n",
       "      <th>2</th>\n",
       "      <td>CENTRAL PERK. (ALL PRESENT EXCEPT RACHEL AND ...</td>\n",
       "      <td>SCENE 1</td>\n",
       "    </tr>\n",
       "    <tr>\n",
       "      <th>3</th>\n",
       "      <td>There's nothing to tell! He's just some guy I...</td>\n",
       "      <td>MONICA</td>\n",
       "    </tr>\n",
       "    <tr>\n",
       "      <th>4</th>\n",
       "      <td>C'mon, you're going out with the guy! There's...</td>\n",
       "      <td>JOEY</td>\n",
       "    </tr>\n",
       "    <tr>\n",
       "      <th>...</th>\n",
       "      <td>...</td>\n",
       "      <td>...</td>\n",
       "    </tr>\n",
       "    <tr>\n",
       "      <th>69969</th>\n",
       "      <td>Then I'm happy too. (They're still hugging - ...</td>\n",
       "      <td>Ross</td>\n",
       "    </tr>\n",
       "    <tr>\n",
       "      <th>69970</th>\n",
       "      <td>COMMERCIAL BREAK</td>\n",
       "      <td>NaN</td>\n",
       "    </tr>\n",
       "    <tr>\n",
       "      <th>69971</th>\n",
       "      <td>Estelle's memorial service. Joey is giving a ...</td>\n",
       "      <td>[Scene</td>\n",
       "    </tr>\n",
       "    <tr>\n",
       "      <th>69972</th>\n",
       "      <td>Thank you all for coming. We're here today to...</td>\n",
       "      <td>Joey</td>\n",
       "    </tr>\n",
       "    <tr>\n",
       "      <th>69973</th>\n",
       "      <td>THE END</td>\n",
       "      <td>NaN</td>\n",
       "    </tr>\n",
       "  </tbody>\n",
       "</table>\n",
       "<p>69974 rows × 2 columns</p>\n",
       "</div>"
      ],
      "text/plain": [
       "                                                    Text  Speaker\n",
       "0      Originally written by Marta Kauffman and David...      NaN\n",
       "1                              Transcribed by guineapig.      NaN\n",
       "2       CENTRAL PERK. (ALL PRESENT EXCEPT RACHEL AND ...  SCENE 1\n",
       "3       There's nothing to tell! He's just some guy I...   MONICA\n",
       "4       C'mon, you're going out with the guy! There's...     JOEY\n",
       "...                                                  ...      ...\n",
       "69969   Then I'm happy too. (They're still hugging - ...     Ross\n",
       "69970                                   COMMERCIAL BREAK      NaN\n",
       "69971   Estelle's memorial service. Joey is giving a ...   [Scene\n",
       "69972   Thank you all for coming. We're here today to...     Joey\n",
       "69973                                            THE END      NaN\n",
       "\n",
       "[69974 rows x 2 columns]"
      ]
     },
     "execution_count": 3,
     "metadata": {},
     "output_type": "execute_result"
    }
   ],
   "source": [
    "df = df.drop(['Show', 'Season', 'Episode'], axis=1)\n",
    "df"
   ]
  },
  {
   "cell_type": "markdown",
   "metadata": {},
   "source": [
    "### Сначала работаем с авторами реплик"
   ]
  },
  {
   "cell_type": "markdown",
   "metadata": {},
   "source": [
    "Сразу замечаем, что имя Joey может быть написано с большой буквы, а может быть целиком в верхнем регистре. Чтобы устранить это переводим все слова в столбце 'Speaker' в нижний регистр. Сразу переводим в нижний регистр все слова в репликах, в дальнейшем это поможет при генерации разделителя контекста."
   ]
  },
  {
   "cell_type": "code",
   "execution_count": 4,
   "metadata": {},
   "outputs": [
    {
     "data": {
      "text/html": [
       "<div>\n",
       "<style scoped>\n",
       "    .dataframe tbody tr th:only-of-type {\n",
       "        vertical-align: middle;\n",
       "    }\n",
       "\n",
       "    .dataframe tbody tr th {\n",
       "        vertical-align: top;\n",
       "    }\n",
       "\n",
       "    .dataframe thead th {\n",
       "        text-align: right;\n",
       "    }\n",
       "</style>\n",
       "<table border=\"1\" class=\"dataframe\">\n",
       "  <thead>\n",
       "    <tr style=\"text-align: right;\">\n",
       "      <th></th>\n",
       "      <th>Text</th>\n",
       "      <th>Speaker</th>\n",
       "    </tr>\n",
       "  </thead>\n",
       "  <tbody>\n",
       "    <tr>\n",
       "      <th>0</th>\n",
       "      <td>originally written by marta kauffman and david...</td>\n",
       "      <td>NaN</td>\n",
       "    </tr>\n",
       "    <tr>\n",
       "      <th>1</th>\n",
       "      <td>transcribed by guineapig.</td>\n",
       "      <td>NaN</td>\n",
       "    </tr>\n",
       "    <tr>\n",
       "      <th>2</th>\n",
       "      <td>central perk. (all present except rachel and ...</td>\n",
       "      <td>scene 1</td>\n",
       "    </tr>\n",
       "    <tr>\n",
       "      <th>3</th>\n",
       "      <td>there's nothing to tell! he's just some guy i...</td>\n",
       "      <td>monica</td>\n",
       "    </tr>\n",
       "    <tr>\n",
       "      <th>4</th>\n",
       "      <td>c'mon, you're going out with the guy! there's...</td>\n",
       "      <td>joey</td>\n",
       "    </tr>\n",
       "    <tr>\n",
       "      <th>...</th>\n",
       "      <td>...</td>\n",
       "      <td>...</td>\n",
       "    </tr>\n",
       "    <tr>\n",
       "      <th>69969</th>\n",
       "      <td>then i'm happy too. (they're still hugging - ...</td>\n",
       "      <td>ross</td>\n",
       "    </tr>\n",
       "    <tr>\n",
       "      <th>69970</th>\n",
       "      <td>commercial break</td>\n",
       "      <td>NaN</td>\n",
       "    </tr>\n",
       "    <tr>\n",
       "      <th>69971</th>\n",
       "      <td>estelle's memorial service. joey is giving a ...</td>\n",
       "      <td>[scene</td>\n",
       "    </tr>\n",
       "    <tr>\n",
       "      <th>69972</th>\n",
       "      <td>thank you all for coming. we're here today to...</td>\n",
       "      <td>joey</td>\n",
       "    </tr>\n",
       "    <tr>\n",
       "      <th>69973</th>\n",
       "      <td>the end</td>\n",
       "      <td>NaN</td>\n",
       "    </tr>\n",
       "  </tbody>\n",
       "</table>\n",
       "<p>69974 rows × 2 columns</p>\n",
       "</div>"
      ],
      "text/plain": [
       "                                                    Text  Speaker\n",
       "0      originally written by marta kauffman and david...      NaN\n",
       "1                              transcribed by guineapig.      NaN\n",
       "2       central perk. (all present except rachel and ...  scene 1\n",
       "3       there's nothing to tell! he's just some guy i...   monica\n",
       "4       c'mon, you're going out with the guy! there's...     joey\n",
       "...                                                  ...      ...\n",
       "69969   then i'm happy too. (they're still hugging - ...     ross\n",
       "69970                                   commercial break      NaN\n",
       "69971   estelle's memorial service. joey is giving a ...   [scene\n",
       "69972   thank you all for coming. we're here today to...     joey\n",
       "69973                                            the end      NaN\n",
       "\n",
       "[69974 rows x 2 columns]"
      ]
     },
     "execution_count": 4,
     "metadata": {},
     "output_type": "execute_result"
    }
   ],
   "source": [
    "df['Speaker'] = df['Speaker'].str.lower()\n",
    "df['Text'] = df['Text'].str.lower()\n",
    "df"
   ]
  },
  {
   "cell_type": "markdown",
   "metadata": {},
   "source": [
    "Выводим статистику для авторов реплик. Видим, что часть одинаковых имен все еще записаны разным способом. Их нужно привести к одинаковой форме записи"
   ]
  },
  {
   "cell_type": "code",
   "execution_count": 5,
   "metadata": {},
   "outputs": [
    {
     "data": {
      "text/plain": [
       "Speaker\n",
       "ross              8869\n",
       "rachel            8774\n",
       "chandler          8058\n",
       "joey              8047\n",
       "monica            7965\n",
       "phoebe            7152\n",
       "[scene            2833\n",
       "mike               355\n",
       "all                332\n",
       "rach               325\n",
       "mnca               259\n",
       "richard            254\n",
       "chan               233\n",
       "janice             208\n",
       "mr. geller         204\n",
       "phoe               195\n",
       "carol              192\n",
       "charlie            190\n",
       "transcribed by     171\n",
       "mrs. geller        167\n",
       "emily              167\n",
       "tag                146\n",
       "frank              133\n",
       "paul               130\n",
       "gunther            127\n",
       "written by         126\n",
       "david              120\n",
       "amy                116\n",
       "mona               111\n",
       "woman              105\n",
       "pete               103\n",
       "susan              102\n",
       "joshua              98\n",
       "gary                96\n",
       "elizabeth           94\n",
       "janine              92\n",
       "kathy               91\n",
       "jill                83\n",
       "joanna              73\n",
       "ben                 73\n",
       "ursula              69\n",
       "eric                68\n",
       "gavin               64\n",
       "erica               64\n",
       "eddie               64\n",
       "dr. green           63\n",
       "kate                61\n",
       "guy                 60\n",
       "director            60\n",
       "danny               58\n",
       "mr. treeger         58\n",
       "steve               56\n",
       "waiter              53\n",
       "man                 53\n",
       "mark                52\n",
       "nurse               50\n",
       "will                50\n",
       "doug                50\n",
       "julie               49\n",
       "cecilia             49\n",
       "Name: count, dtype: int64"
      ]
     },
     "execution_count": 5,
     "metadata": {},
     "output_type": "execute_result"
    }
   ],
   "source": [
    "df['Speaker'].value_counts().head(60)"
   ]
  },
  {
   "cell_type": "code",
   "execution_count": 6,
   "metadata": {},
   "outputs": [],
   "source": [
    "# Замена указанных в replace_cat_list значений признака на replace_name\n",
    "\n",
    "def replace_with_cat_list(feature, replace_cat_list, replace_name='other'):\n",
    "    mask = feature.isin(replace_cat_list)\n",
    "    return feature.mask(mask, replace_name)"
   ]
  },
  {
   "cell_type": "code",
   "execution_count": 7,
   "metadata": {},
   "outputs": [],
   "source": [
    "names_for_replace = [\n",
    "    (['rach'], 'rachel'),\n",
    "    (['chan'], 'chandler'),\n",
    "    (['mnca'], 'monica'),\n",
    "    (['phoe'], 'phoebe'),\n",
    "    (['the director'], 'director') \n",
    "]"
   ]
  },
  {
   "cell_type": "code",
   "execution_count": 8,
   "metadata": {},
   "outputs": [],
   "source": [
    "for names in names_for_replace:\n",
    "    df.loc[:, ('Speaker')] = replace_with_cat_list(df.loc[:, ('Speaker')], names[0], names[1])"
   ]
  },
  {
   "cell_type": "markdown",
   "metadata": {},
   "source": [
    "Видим, что как минимум в top60 теперь нет одинаковых авторов реплик, записанных разным способом"
   ]
  },
  {
   "cell_type": "code",
   "execution_count": 9,
   "metadata": {},
   "outputs": [
    {
     "data": {
      "text/plain": [
       "Speaker\n",
       "rachel            9099\n",
       "ross              8869\n",
       "chandler          8291\n",
       "monica            8224\n",
       "joey              8047\n",
       "phoebe            7347\n",
       "[scene            2833\n",
       "mike               355\n",
       "all                332\n",
       "richard            254\n",
       "janice             208\n",
       "mr. geller         204\n",
       "carol              192\n",
       "charlie            190\n",
       "transcribed by     171\n",
       "mrs. geller        167\n",
       "emily              167\n",
       "tag                146\n",
       "frank              133\n",
       "paul               130\n",
       "gunther            127\n",
       "written by         126\n",
       "david              120\n",
       "amy                116\n",
       "mona               111\n",
       "director           107\n",
       "woman              105\n",
       "pete               103\n",
       "susan              102\n",
       "joshua              98\n",
       "gary                96\n",
       "elizabeth           94\n",
       "janine              92\n",
       "kathy               91\n",
       "jill                83\n",
       "ben                 73\n",
       "joanna              73\n",
       "ursula              69\n",
       "eric                68\n",
       "eddie               64\n",
       "gavin               64\n",
       "erica               64\n",
       "dr. green           63\n",
       "kate                61\n",
       "guy                 60\n",
       "mr. treeger         58\n",
       "danny               58\n",
       "steve               56\n",
       "waiter              53\n",
       "man                 53\n",
       "mark                52\n",
       "will                50\n",
       "nurse               50\n",
       "doug                50\n",
       "julie               49\n",
       "cecilia             49\n",
       "tim                 46\n",
       "alice               43\n",
       "kim                 41\n",
       "mrs. bing           40\n",
       "Name: count, dtype: int64"
      ]
     },
     "execution_count": 9,
     "metadata": {},
     "output_type": "execute_result"
    }
   ],
   "source": [
    "df['Speaker'].value_counts().head(60)"
   ]
  },
  {
   "cell_type": "markdown",
   "metadata": {},
   "source": [
    "### Теперь работаем с пропущенными значениями"
   ]
  },
  {
   "cell_type": "markdown",
   "metadata": {},
   "source": [
    "Выводим статистику чтобы оценить количество пропущенных значений"
   ]
  },
  {
   "cell_type": "code",
   "execution_count": 10,
   "metadata": {},
   "outputs": [
    {
     "name": "stdout",
     "output_type": "stream",
     "text": [
      "<class 'pandas.core.frame.DataFrame'>\n",
      "RangeIndex: 69974 entries, 0 to 69973\n",
      "Data columns (total 2 columns):\n",
      " #   Column   Non-Null Count  Dtype \n",
      "---  ------   --------------  ----- \n",
      " 0   Text     69974 non-null  object\n",
      " 1   Speaker  63690 non-null  object\n",
      "dtypes: object(2)\n",
      "memory usage: 1.1+ MB\n"
     ]
    }
   ],
   "source": [
    "df.info(verbose=True)"
   ]
  },
  {
   "cell_type": "markdown",
   "metadata": {},
   "source": [
    "В датасете есть пропущенные значения для говорящего персонажа. Сначала я решил их удалить, но после подумал, что они могут служить разделителями между отдельными диалогами, не связанными контекстом. Сохранил промежуточный датасет в эксель чтобы было проще просматривать и анализировать его"
   ]
  },
  {
   "cell_type": "code",
   "execution_count": 11,
   "metadata": {},
   "outputs": [],
   "source": [
    "df.to_excel(os.path.join(DATA_FOLDER, 'output_4analysys.xlsx'), sheet_name='Sheet_name_1')"
   ]
  },
  {
   "cell_type": "markdown",
   "metadata": {},
   "source": [
    "Анализ данных показал, что сцены с разным контекстом разделяются между собой либо 'scene ' в поле 'Speaker', либо присутствием слова 'cut' в поле 'Text', в этом случае 'Speaker' равняется NaN. Дополнительно я решил провести анализ, какие реплики предшествуют и следуют за NaN в поле 'Speaker'"
   ]
  },
  {
   "cell_type": "code",
   "execution_count": 12,
   "metadata": {},
   "outputs": [
    {
     "data": {
      "text/html": [
       "<div>\n",
       "<style scoped>\n",
       "    .dataframe tbody tr th:only-of-type {\n",
       "        vertical-align: middle;\n",
       "    }\n",
       "\n",
       "    .dataframe tbody tr th {\n",
       "        vertical-align: top;\n",
       "    }\n",
       "\n",
       "    .dataframe thead th {\n",
       "        text-align: right;\n",
       "    }\n",
       "</style>\n",
       "<table border=\"1\" class=\"dataframe\">\n",
       "  <thead>\n",
       "    <tr style=\"text-align: right;\">\n",
       "      <th></th>\n",
       "      <th>Text</th>\n",
       "      <th>Speaker</th>\n",
       "      <th>PrevText</th>\n",
       "      <th>NextText</th>\n",
       "    </tr>\n",
       "  </thead>\n",
       "  <tbody>\n",
       "    <tr>\n",
       "      <th>0</th>\n",
       "      <td>originally written by marta kauffman and david...</td>\n",
       "      <td>NaN</td>\n",
       "      <td>None</td>\n",
       "      <td>transcribed by guineapig.</td>\n",
       "    </tr>\n",
       "    <tr>\n",
       "      <th>1</th>\n",
       "      <td>transcribed by guineapig.</td>\n",
       "      <td>NaN</td>\n",
       "      <td>originally written by marta kauffman and david...</td>\n",
       "      <td>central perk. (all present except rachel and ...</td>\n",
       "    </tr>\n",
       "    <tr>\n",
       "      <th>2</th>\n",
       "      <td>central perk. (all present except rachel and ...</td>\n",
       "      <td>scene 1</td>\n",
       "      <td>transcribed by guineapig.</td>\n",
       "      <td>there's nothing to tell! he's just some guy i...</td>\n",
       "    </tr>\n",
       "    <tr>\n",
       "      <th>3</th>\n",
       "      <td>there's nothing to tell! he's just some guy i...</td>\n",
       "      <td>monica</td>\n",
       "      <td>central perk. (all present except rachel and ...</td>\n",
       "      <td>c'mon, you're going out with the guy! there's...</td>\n",
       "    </tr>\n",
       "    <tr>\n",
       "      <th>4</th>\n",
       "      <td>c'mon, you're going out with the guy! there's...</td>\n",
       "      <td>joey</td>\n",
       "      <td>there's nothing to tell! he's just some guy i...</td>\n",
       "      <td>so does he have a hump? a hump and a hairpiece?</td>\n",
       "    </tr>\n",
       "    <tr>\n",
       "      <th>...</th>\n",
       "      <td>...</td>\n",
       "      <td>...</td>\n",
       "      <td>...</td>\n",
       "      <td>...</td>\n",
       "    </tr>\n",
       "    <tr>\n",
       "      <th>69969</th>\n",
       "      <td>then i'm happy too. (they're still hugging - ...</td>\n",
       "      <td>ross</td>\n",
       "      <td>oh! oh, i'm so happy.</td>\n",
       "      <td>commercial break</td>\n",
       "    </tr>\n",
       "    <tr>\n",
       "      <th>69970</th>\n",
       "      <td>commercial break</td>\n",
       "      <td>NaN</td>\n",
       "      <td>then i'm happy too. (they're still hugging - ...</td>\n",
       "      <td>estelle's memorial service. joey is giving a ...</td>\n",
       "    </tr>\n",
       "    <tr>\n",
       "      <th>69971</th>\n",
       "      <td>estelle's memorial service. joey is giving a ...</td>\n",
       "      <td>[scene</td>\n",
       "      <td>commercial break</td>\n",
       "      <td>thank you all for coming. we're here today to...</td>\n",
       "    </tr>\n",
       "    <tr>\n",
       "      <th>69972</th>\n",
       "      <td>thank you all for coming. we're here today to...</td>\n",
       "      <td>joey</td>\n",
       "      <td>estelle's memorial service. joey is giving a ...</td>\n",
       "      <td>the end</td>\n",
       "    </tr>\n",
       "    <tr>\n",
       "      <th>69973</th>\n",
       "      <td>the end</td>\n",
       "      <td>NaN</td>\n",
       "      <td>thank you all for coming. we're here today to...</td>\n",
       "      <td>None</td>\n",
       "    </tr>\n",
       "  </tbody>\n",
       "</table>\n",
       "<p>69974 rows × 4 columns</p>\n",
       "</div>"
      ],
      "text/plain": [
       "                                                    Text  Speaker  \\\n",
       "0      originally written by marta kauffman and david...      NaN   \n",
       "1                              transcribed by guineapig.      NaN   \n",
       "2       central perk. (all present except rachel and ...  scene 1   \n",
       "3       there's nothing to tell! he's just some guy i...   monica   \n",
       "4       c'mon, you're going out with the guy! there's...     joey   \n",
       "...                                                  ...      ...   \n",
       "69969   then i'm happy too. (they're still hugging - ...     ross   \n",
       "69970                                   commercial break      NaN   \n",
       "69971   estelle's memorial service. joey is giving a ...   [scene   \n",
       "69972   thank you all for coming. we're here today to...     joey   \n",
       "69973                                            the end      NaN   \n",
       "\n",
       "                                                PrevText  \\\n",
       "0                                                   None   \n",
       "1      originally written by marta kauffman and david...   \n",
       "2                              transcribed by guineapig.   \n",
       "3       central perk. (all present except rachel and ...   \n",
       "4       there's nothing to tell! he's just some guy i...   \n",
       "...                                                  ...   \n",
       "69969                              oh! oh, i'm so happy.   \n",
       "69970   then i'm happy too. (they're still hugging - ...   \n",
       "69971                                   commercial break   \n",
       "69972   estelle's memorial service. joey is giving a ...   \n",
       "69973   thank you all for coming. we're here today to...   \n",
       "\n",
       "                                                NextText  \n",
       "0                              transcribed by guineapig.  \n",
       "1       central perk. (all present except rachel and ...  \n",
       "2       there's nothing to tell! he's just some guy i...  \n",
       "3       c'mon, you're going out with the guy! there's...  \n",
       "4        so does he have a hump? a hump and a hairpiece?  \n",
       "...                                                  ...  \n",
       "69969                                   commercial break  \n",
       "69970   estelle's memorial service. joey is giving a ...  \n",
       "69971   thank you all for coming. we're here today to...  \n",
       "69972                                            the end  \n",
       "69973                                               None  \n",
       "\n",
       "[69974 rows x 4 columns]"
      ]
     },
     "execution_count": 12,
     "metadata": {},
     "output_type": "execute_result"
    }
   ],
   "source": [
    "df['PrevText'] = df['Text'].shift(1)\n",
    "df['NextText'] = df['Text'].shift(-1)\n",
    "df"
   ]
  },
  {
   "cell_type": "markdown",
   "metadata": {},
   "source": [
    "Видно, что пропущенным значениям соответствуют рекламные паузы, метки начала и окончания эпизодов"
   ]
  },
  {
   "cell_type": "code",
   "execution_count": 13,
   "metadata": {},
   "outputs": [
    {
     "data": {
      "text/plain": [
       "Text\n",
       "end                          199\n",
       "commercial break             191\n",
       "opening credits              179\n",
       "closing credits              100\n",
       "ending credits                72\n",
       "(pause)                       21\n",
       "[cut to later]                20\n",
       "(pause.)                      20\n",
       "[cut to living room]          17\n",
       "[cut to monica's bedroom]     16\n",
       "Name: count, dtype: int64"
      ]
     },
     "execution_count": 13,
     "metadata": {},
     "output_type": "execute_result"
    }
   ],
   "source": [
    "df[df['Speaker'].isna()]['Text'].value_counts().head(10)"
   ]
  },
  {
   "cell_type": "markdown",
   "metadata": {},
   "source": [
    "При этом перед отсутствующими значениями и после них чаще всего следуют короткие открывающие и закрывающие реплики персонажей, что может свидетельствовать о возможности их использования в качестве разделителей. Как минимум в том случае, когда отсутствующее значение соответствует рекламной паузе и разделяет 2 разных по контексту сюжета внутри эпизода."
   ]
  },
  {
   "cell_type": "code",
   "execution_count": 14,
   "metadata": {},
   "outputs": [
    {
     "data": {
      "text/plain": [
       "PrevText\n",
       " okay.         66\n",
       "end            50\n",
       " yeah.         33\n",
       " okay!         15\n",
       " all right.    14\n",
       " hey!          14\n",
       " ok.           13\n",
       " bye.          12\n",
       " yeah!         12\n",
       " what?         11\n",
       "Name: count, dtype: int64"
      ]
     },
     "execution_count": 14,
     "metadata": {},
     "output_type": "execute_result"
    }
   ],
   "source": [
    "df[df['Speaker'].isna()]['PrevText'].value_counts().head(10)"
   ]
  },
  {
   "cell_type": "code",
   "execution_count": 15,
   "metadata": {},
   "outputs": [
    {
     "data": {
      "text/plain": [
       "NextText\n",
       " hey!               53\n",
       "end                 44\n",
       "commercial break    36\n",
       " hey.               36\n",
       " hi!                29\n",
       " what?              29\n",
       " hi.                27\n",
       "closing credits     23\n",
       "opening credits     22\n",
       "ending credits      21\n",
       "Name: count, dtype: int64"
      ]
     },
     "execution_count": 15,
     "metadata": {},
     "output_type": "execute_result"
    }
   ],
   "source": [
    "df[df['Speaker'].isna()]['NextText'].value_counts().head(10)"
   ]
  },
  {
   "cell_type": "markdown",
   "metadata": {},
   "source": [
    "Таким образом я принял решение заменить часть отсутствующих значений специальной меткой, обозначающей разрыв в диалогах и, как следствие, разрыв в непрерывном контексте, чтобы после была возможность разделять по ней диалоги."
   ]
  },
  {
   "cell_type": "code",
   "execution_count": 16,
   "metadata": {},
   "outputs": [],
   "source": [
    "BREAK_LABEL = 'break'"
   ]
  },
  {
   "cell_type": "markdown",
   "metadata": {},
   "source": [
    "Список значений поля 'Speaker' для замены на метку выбран исходя из визуального анализа датасета, с учетом разделителей в top60 и статистики по наличию 'scene ' в поле 'Speaker'"
   ]
  },
  {
   "cell_type": "code",
   "execution_count": 17,
   "metadata": {},
   "outputs": [],
   "source": [
    "names_for_replace = [\n",
    "    (['[scene', 'transcribed by', 'written by'], BREAK_LABEL),\n",
    "    (['scene 1', 'scene 2', 'scene 3', 'scene 4'], BREAK_LABEL),\n",
    "    (['scene 5', 'scene 6', 'scene 7', 'scene 8'], BREAK_LABEL)    \n",
    "]"
   ]
  },
  {
   "cell_type": "code",
   "execution_count": 18,
   "metadata": {},
   "outputs": [],
   "source": [
    "for names in names_for_replace:\n",
    "    df.loc[:, ('Speaker')] = replace_with_cat_list(df.loc[:, ('Speaker')], names[0], names[1])"
   ]
  },
  {
   "cell_type": "markdown",
   "metadata": {},
   "source": [
    "Кроме того, заполняем с помощью BREAK_LABEL те NaN в 'Speaker', которым соответствует наличие слова cut и скобок в поле 'Text', в большинстве случаев это свидетельствует о смене сцены и, соответственно, контекста диалогов."
   ]
  },
  {
   "cell_type": "code",
   "execution_count": 19,
   "metadata": {},
   "outputs": [],
   "source": [
    "df.loc[df['Text'].str.contains('cut') & df['Text'].str.contains('\\(') & df['Text'].str.contains('\\)'), ['Speaker']] = BREAK_LABEL"
   ]
  },
  {
   "cell_type": "markdown",
   "metadata": {},
   "source": [
    "Смотрим количество оставшихся пустых полей в 'Speaker'. Видим, что большинство пустых полей так и остались незаполнены. Удаляем их"
   ]
  },
  {
   "cell_type": "code",
   "execution_count": 20,
   "metadata": {},
   "outputs": [
    {
     "data": {
      "text/plain": [
       "6196"
      ]
     },
     "execution_count": 20,
     "metadata": {},
     "output_type": "execute_result"
    }
   ],
   "source": [
    "df['Speaker'].isna().sum()"
   ]
  },
  {
   "cell_type": "code",
   "execution_count": 21,
   "metadata": {},
   "outputs": [
    {
     "name": "stdout",
     "output_type": "stream",
     "text": [
      "<class 'pandas.core.frame.DataFrame'>\n",
      "Index: 63778 entries, 2 to 69972\n",
      "Data columns (total 4 columns):\n",
      " #   Column    Non-Null Count  Dtype \n",
      "---  ------    --------------  ----- \n",
      " 0   Text      63778 non-null  object\n",
      " 1   Speaker   63778 non-null  object\n",
      " 2   PrevText  63778 non-null  object\n",
      " 3   NextText  63778 non-null  object\n",
      "dtypes: object(4)\n",
      "memory usage: 2.4+ MB\n"
     ]
    }
   ],
   "source": [
    "df = df.dropna()\n",
    "df.info(verbose=True)"
   ]
  },
  {
   "cell_type": "markdown",
   "metadata": {},
   "source": [
    "Избавляемся от лишних BREAK_LABEL, идущих подряд. В результате каждый диалог со своим контекстом разделен только одной меткой разрыва контекста BREAK_LABEL. Удаляем ненужные столбцы, чтобы остались только реплики и их авторы."
   ]
  },
  {
   "cell_type": "code",
   "execution_count": 22,
   "metadata": {},
   "outputs": [
    {
     "data": {
      "text/html": [
       "<div>\n",
       "<style scoped>\n",
       "    .dataframe tbody tr th:only-of-type {\n",
       "        vertical-align: middle;\n",
       "    }\n",
       "\n",
       "    .dataframe tbody tr th {\n",
       "        vertical-align: top;\n",
       "    }\n",
       "\n",
       "    .dataframe thead th {\n",
       "        text-align: right;\n",
       "    }\n",
       "</style>\n",
       "<table border=\"1\" class=\"dataframe\">\n",
       "  <thead>\n",
       "    <tr style=\"text-align: right;\">\n",
       "      <th></th>\n",
       "      <th>Text</th>\n",
       "      <th>Speaker</th>\n",
       "      <th>PrevText</th>\n",
       "      <th>NextText</th>\n",
       "      <th>NextSpeaker</th>\n",
       "    </tr>\n",
       "  </thead>\n",
       "  <tbody>\n",
       "    <tr>\n",
       "      <th>2</th>\n",
       "      <td>central perk. (all present except rachel and ...</td>\n",
       "      <td>break</td>\n",
       "      <td>transcribed by guineapig.</td>\n",
       "      <td>there's nothing to tell! he's just some guy i...</td>\n",
       "      <td>monica</td>\n",
       "    </tr>\n",
       "    <tr>\n",
       "      <th>3</th>\n",
       "      <td>there's nothing to tell! he's just some guy i...</td>\n",
       "      <td>monica</td>\n",
       "      <td>central perk. (all present except rachel and ...</td>\n",
       "      <td>c'mon, you're going out with the guy! there's...</td>\n",
       "      <td>joey</td>\n",
       "    </tr>\n",
       "    <tr>\n",
       "      <th>4</th>\n",
       "      <td>c'mon, you're going out with the guy! there's...</td>\n",
       "      <td>joey</td>\n",
       "      <td>there's nothing to tell! he's just some guy i...</td>\n",
       "      <td>so does he have a hump? a hump and a hairpiece?</td>\n",
       "      <td>chandler</td>\n",
       "    </tr>\n",
       "    <tr>\n",
       "      <th>5</th>\n",
       "      <td>so does he have a hump? a hump and a hairpiece?</td>\n",
       "      <td>chandler</td>\n",
       "      <td>c'mon, you're going out with the guy! there's...</td>\n",
       "      <td>wait, does he eat chalk?</td>\n",
       "      <td>phoebe</td>\n",
       "    </tr>\n",
       "    <tr>\n",
       "      <th>6</th>\n",
       "      <td>wait, does he eat chalk?</td>\n",
       "      <td>phoebe</td>\n",
       "      <td>so does he have a hump? a hump and a hairpiece?</td>\n",
       "      <td>(the others stare, bemused)</td>\n",
       "      <td>phoebe</td>\n",
       "    </tr>\n",
       "    <tr>\n",
       "      <th>...</th>\n",
       "      <td>...</td>\n",
       "      <td>...</td>\n",
       "      <td>...</td>\n",
       "      <td>...</td>\n",
       "      <td>...</td>\n",
       "    </tr>\n",
       "    <tr>\n",
       "      <th>69967</th>\n",
       "      <td>yeah, yeah, oh! (they hug)</td>\n",
       "      <td>ross</td>\n",
       "      <td>yeah! i'm going to paris. thank you, ross!</td>\n",
       "      <td>oh! oh, i'm so happy.</td>\n",
       "      <td>rachel</td>\n",
       "    </tr>\n",
       "    <tr>\n",
       "      <th>69968</th>\n",
       "      <td>oh! oh, i'm so happy.</td>\n",
       "      <td>rachel</td>\n",
       "      <td>yeah, yeah, oh! (they hug)</td>\n",
       "      <td>then i'm happy too. (they're still hugging - ...</td>\n",
       "      <td>ross</td>\n",
       "    </tr>\n",
       "    <tr>\n",
       "      <th>69969</th>\n",
       "      <td>then i'm happy too. (they're still hugging - ...</td>\n",
       "      <td>ross</td>\n",
       "      <td>oh! oh, i'm so happy.</td>\n",
       "      <td>commercial break</td>\n",
       "      <td>break</td>\n",
       "    </tr>\n",
       "    <tr>\n",
       "      <th>69971</th>\n",
       "      <td>estelle's memorial service. joey is giving a ...</td>\n",
       "      <td>break</td>\n",
       "      <td>commercial break</td>\n",
       "      <td>thank you all for coming. we're here today to...</td>\n",
       "      <td>joey</td>\n",
       "    </tr>\n",
       "    <tr>\n",
       "      <th>69972</th>\n",
       "      <td>thank you all for coming. we're here today to...</td>\n",
       "      <td>joey</td>\n",
       "      <td>estelle's memorial service. joey is giving a ...</td>\n",
       "      <td>the end</td>\n",
       "      <td>None</td>\n",
       "    </tr>\n",
       "  </tbody>\n",
       "</table>\n",
       "<p>63778 rows × 5 columns</p>\n",
       "</div>"
      ],
      "text/plain": [
       "                                                    Text   Speaker  \\\n",
       "2       central perk. (all present except rachel and ...     break   \n",
       "3       there's nothing to tell! he's just some guy i...    monica   \n",
       "4       c'mon, you're going out with the guy! there's...      joey   \n",
       "5        so does he have a hump? a hump and a hairpiece?  chandler   \n",
       "6                               wait, does he eat chalk?    phoebe   \n",
       "...                                                  ...       ...   \n",
       "69967                         yeah, yeah, oh! (they hug)      ross   \n",
       "69968                              oh! oh, i'm so happy.    rachel   \n",
       "69969   then i'm happy too. (they're still hugging - ...      ross   \n",
       "69971   estelle's memorial service. joey is giving a ...     break   \n",
       "69972   thank you all for coming. we're here today to...      joey   \n",
       "\n",
       "                                                PrevText  \\\n",
       "2                              transcribed by guineapig.   \n",
       "3       central perk. (all present except rachel and ...   \n",
       "4       there's nothing to tell! he's just some guy i...   \n",
       "5       c'mon, you're going out with the guy! there's...   \n",
       "6        so does he have a hump? a hump and a hairpiece?   \n",
       "...                                                  ...   \n",
       "69967         yeah! i'm going to paris. thank you, ross!   \n",
       "69968                         yeah, yeah, oh! (they hug)   \n",
       "69969                              oh! oh, i'm so happy.   \n",
       "69971                                   commercial break   \n",
       "69972   estelle's memorial service. joey is giving a ...   \n",
       "\n",
       "                                                NextText NextSpeaker  \n",
       "2       there's nothing to tell! he's just some guy i...      monica  \n",
       "3       c'mon, you're going out with the guy! there's...        joey  \n",
       "4        so does he have a hump? a hump and a hairpiece?    chandler  \n",
       "5                               wait, does he eat chalk?      phoebe  \n",
       "6                            (the others stare, bemused)      phoebe  \n",
       "...                                                  ...         ...  \n",
       "69967                              oh! oh, i'm so happy.      rachel  \n",
       "69968   then i'm happy too. (they're still hugging - ...        ross  \n",
       "69969                                   commercial break       break  \n",
       "69971   thank you all for coming. we're here today to...        joey  \n",
       "69972                                            the end        None  \n",
       "\n",
       "[63778 rows x 5 columns]"
      ]
     },
     "execution_count": 22,
     "metadata": {},
     "output_type": "execute_result"
    }
   ],
   "source": [
    "df.loc[:, ['NextSpeaker']] = df['Speaker'].shift(-1)\n",
    "df"
   ]
  },
  {
   "cell_type": "code",
   "execution_count": 23,
   "metadata": {},
   "outputs": [
    {
     "data": {
      "text/html": [
       "<div>\n",
       "<style scoped>\n",
       "    .dataframe tbody tr th:only-of-type {\n",
       "        vertical-align: middle;\n",
       "    }\n",
       "\n",
       "    .dataframe tbody tr th {\n",
       "        vertical-align: top;\n",
       "    }\n",
       "\n",
       "    .dataframe thead th {\n",
       "        text-align: right;\n",
       "    }\n",
       "</style>\n",
       "<table border=\"1\" class=\"dataframe\">\n",
       "  <thead>\n",
       "    <tr style=\"text-align: right;\">\n",
       "      <th></th>\n",
       "      <th>Text</th>\n",
       "      <th>Speaker</th>\n",
       "    </tr>\n",
       "  </thead>\n",
       "  <tbody>\n",
       "    <tr>\n",
       "      <th>2</th>\n",
       "      <td>central perk. (all present except rachel and ...</td>\n",
       "      <td>break</td>\n",
       "    </tr>\n",
       "    <tr>\n",
       "      <th>3</th>\n",
       "      <td>there's nothing to tell! he's just some guy i...</td>\n",
       "      <td>monica</td>\n",
       "    </tr>\n",
       "    <tr>\n",
       "      <th>4</th>\n",
       "      <td>c'mon, you're going out with the guy! there's...</td>\n",
       "      <td>joey</td>\n",
       "    </tr>\n",
       "    <tr>\n",
       "      <th>5</th>\n",
       "      <td>so does he have a hump? a hump and a hairpiece?</td>\n",
       "      <td>chandler</td>\n",
       "    </tr>\n",
       "    <tr>\n",
       "      <th>6</th>\n",
       "      <td>wait, does he eat chalk?</td>\n",
       "      <td>phoebe</td>\n",
       "    </tr>\n",
       "    <tr>\n",
       "      <th>...</th>\n",
       "      <td>...</td>\n",
       "      <td>...</td>\n",
       "    </tr>\n",
       "    <tr>\n",
       "      <th>69967</th>\n",
       "      <td>yeah, yeah, oh! (they hug)</td>\n",
       "      <td>ross</td>\n",
       "    </tr>\n",
       "    <tr>\n",
       "      <th>69968</th>\n",
       "      <td>oh! oh, i'm so happy.</td>\n",
       "      <td>rachel</td>\n",
       "    </tr>\n",
       "    <tr>\n",
       "      <th>69969</th>\n",
       "      <td>then i'm happy too. (they're still hugging - ...</td>\n",
       "      <td>ross</td>\n",
       "    </tr>\n",
       "    <tr>\n",
       "      <th>69971</th>\n",
       "      <td>estelle's memorial service. joey is giving a ...</td>\n",
       "      <td>break</td>\n",
       "    </tr>\n",
       "    <tr>\n",
       "      <th>69972</th>\n",
       "      <td>thank you all for coming. we're here today to...</td>\n",
       "      <td>joey</td>\n",
       "    </tr>\n",
       "  </tbody>\n",
       "</table>\n",
       "<p>63489 rows × 2 columns</p>\n",
       "</div>"
      ],
      "text/plain": [
       "                                                    Text   Speaker\n",
       "2       central perk. (all present except rachel and ...     break\n",
       "3       there's nothing to tell! he's just some guy i...    monica\n",
       "4       c'mon, you're going out with the guy! there's...      joey\n",
       "5        so does he have a hump? a hump and a hairpiece?  chandler\n",
       "6                               wait, does he eat chalk?    phoebe\n",
       "...                                                  ...       ...\n",
       "69967                         yeah, yeah, oh! (they hug)      ross\n",
       "69968                              oh! oh, i'm so happy.    rachel\n",
       "69969   then i'm happy too. (they're still hugging - ...      ross\n",
       "69971   estelle's memorial service. joey is giving a ...     break\n",
       "69972   thank you all for coming. we're here today to...      joey\n",
       "\n",
       "[63489 rows x 2 columns]"
      ]
     },
     "execution_count": 23,
     "metadata": {},
     "output_type": "execute_result"
    }
   ],
   "source": [
    "fixed_df = df[~((df['Speaker']==BREAK_LABEL) & (df['NextSpeaker']==BREAK_LABEL))]\n",
    "fixed_df = fixed_df.drop(['PrevText', 'NextText', 'NextSpeaker'], axis=1)\n",
    "fixed_df"
   ]
  },
  {
   "cell_type": "markdown",
   "metadata": {},
   "source": [
    "В текстах диалогов остаются пояснения к происходящему на экране, выделенные круглыми и квадратными скобками. Иногда они могут содержать в себе дополнительный контекст, но чаще разрывают реплику, поэтому я принял решение удалить их. также удаляю пробелы в начале и конце реплик и несколько пробелов, идущих подряд."
   ]
  },
  {
   "cell_type": "code",
   "execution_count": 24,
   "metadata": {},
   "outputs": [
    {
     "data": {
      "text/html": [
       "<div>\n",
       "<style scoped>\n",
       "    .dataframe tbody tr th:only-of-type {\n",
       "        vertical-align: middle;\n",
       "    }\n",
       "\n",
       "    .dataframe tbody tr th {\n",
       "        vertical-align: top;\n",
       "    }\n",
       "\n",
       "    .dataframe thead th {\n",
       "        text-align: right;\n",
       "    }\n",
       "</style>\n",
       "<table border=\"1\" class=\"dataframe\">\n",
       "  <thead>\n",
       "    <tr style=\"text-align: right;\">\n",
       "      <th></th>\n",
       "      <th>Text</th>\n",
       "      <th>Speaker</th>\n",
       "    </tr>\n",
       "  </thead>\n",
       "  <tbody>\n",
       "    <tr>\n",
       "      <th>2</th>\n",
       "      <td>central perk.</td>\n",
       "      <td>break</td>\n",
       "    </tr>\n",
       "    <tr>\n",
       "      <th>3</th>\n",
       "      <td>there's nothing to tell! he's just some guy i ...</td>\n",
       "      <td>monica</td>\n",
       "    </tr>\n",
       "    <tr>\n",
       "      <th>4</th>\n",
       "      <td>c'mon, you're going out with the guy! there's ...</td>\n",
       "      <td>joey</td>\n",
       "    </tr>\n",
       "    <tr>\n",
       "      <th>5</th>\n",
       "      <td>so does he have a hump? a hump and a hairpiece?</td>\n",
       "      <td>chandler</td>\n",
       "    </tr>\n",
       "    <tr>\n",
       "      <th>6</th>\n",
       "      <td>wait, does he eat chalk?</td>\n",
       "      <td>phoebe</td>\n",
       "    </tr>\n",
       "    <tr>\n",
       "      <th>...</th>\n",
       "      <td>...</td>\n",
       "      <td>...</td>\n",
       "    </tr>\n",
       "    <tr>\n",
       "      <th>69967</th>\n",
       "      <td>yeah, yeah, oh!</td>\n",
       "      <td>ross</td>\n",
       "    </tr>\n",
       "    <tr>\n",
       "      <th>69968</th>\n",
       "      <td>oh! oh, i'm so happy.</td>\n",
       "      <td>rachel</td>\n",
       "    </tr>\n",
       "    <tr>\n",
       "      <th>69969</th>\n",
       "      <td>then i'm happy too.</td>\n",
       "      <td>ross</td>\n",
       "    </tr>\n",
       "    <tr>\n",
       "      <th>69971</th>\n",
       "      <td>estelle's memorial service. joey is giving a s...</td>\n",
       "      <td>break</td>\n",
       "    </tr>\n",
       "    <tr>\n",
       "      <th>69972</th>\n",
       "      <td>thank you all for coming. we're here today to ...</td>\n",
       "      <td>joey</td>\n",
       "    </tr>\n",
       "  </tbody>\n",
       "</table>\n",
       "<p>63489 rows × 2 columns</p>\n",
       "</div>"
      ],
      "text/plain": [
       "                                                    Text   Speaker\n",
       "2                                          central perk.     break\n",
       "3      there's nothing to tell! he's just some guy i ...    monica\n",
       "4      c'mon, you're going out with the guy! there's ...      joey\n",
       "5        so does he have a hump? a hump and a hairpiece?  chandler\n",
       "6                               wait, does he eat chalk?    phoebe\n",
       "...                                                  ...       ...\n",
       "69967                                    yeah, yeah, oh!      ross\n",
       "69968                              oh! oh, i'm so happy.    rachel\n",
       "69969                                then i'm happy too.      ross\n",
       "69971  estelle's memorial service. joey is giving a s...     break\n",
       "69972  thank you all for coming. we're here today to ...      joey\n",
       "\n",
       "[63489 rows x 2 columns]"
      ]
     },
     "execution_count": 24,
     "metadata": {},
     "output_type": "execute_result"
    }
   ],
   "source": [
    "fixed_df.loc[:, ['Text']] = fixed_df['Text'].str.replace(r\"\\(.*\\)\", \"\", regex=True)\n",
    "fixed_df.loc[:, ['Text']] = fixed_df['Text'].str.replace(r\"\\[.*\\]\", \"\", regex=True)\n",
    "fixed_df.loc[:, ['Text']] = fixed_df.loc[:, ['Text']].replace(r'\\s+', ' ', regex=True)\n",
    "fixed_df.loc[:, ['Text']] = fixed_df.loc[:, ['Text']].apply(lambda x: x.str.strip())\n",
    "fixed_df"
   ]
  },
  {
   "cell_type": "markdown",
   "metadata": {},
   "source": [
    "Сохраняем получившийся датасет в csv чтобы дальше можно было работать с конкретным персонажем не повторяя анализ и очистку"
   ]
  },
  {
   "cell_type": "code",
   "execution_count": 25,
   "metadata": {},
   "outputs": [
    {
     "name": "stdout",
     "output_type": "stream",
     "text": [
      "[WinError 183] Cannot create a file when that file already exists: 'data'\n"
     ]
    }
   ],
   "source": [
    "try:\n",
    "    os.mkdir(DATA_FOLDER)\n",
    "except OSError as error:\n",
    "    print(error)"
   ]
  },
  {
   "cell_type": "code",
   "execution_count": 26,
   "metadata": {},
   "outputs": [],
   "source": [
    "df = fixed_df.to_csv(os.path.join(DATA_FOLDER, 'Friends_processed.csv'), index=False)\n",
    "df"
   ]
  },
  {
   "cell_type": "code",
   "execution_count": null,
   "metadata": {},
   "outputs": [],
   "source": []
  }
 ],
 "metadata": {
  "kernelspec": {
   "display_name": "Python 3",
   "language": "python",
   "name": "python3"
  },
  "language_info": {
   "codemirror_mode": {
    "name": "ipython",
    "version": 3
   },
   "file_extension": ".py",
   "mimetype": "text/x-python",
   "name": "python",
   "nbconvert_exporter": "python",
   "pygments_lexer": "ipython3",
   "version": "3.9.16"
  }
 },
 "nbformat": 4,
 "nbformat_minor": 2
}
