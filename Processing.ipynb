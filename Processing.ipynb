{
 "cells": [
  {
   "cell_type": "code",
   "execution_count": 1,
   "metadata": {},
   "outputs": [],
   "source": [
    "import pandas as pd\n",
    "\n",
    "import os\n",
    "\n",
    "import copy\n",
    "\n",
    "import random\n",
    "\n",
    "import pickle\n",
    "\n",
    "from tqdm import tqdm\n",
    "\n",
    "import matplotlib.pyplot as plt"
   ]
  },
  {
   "cell_type": "code",
   "execution_count": 2,
   "metadata": {},
   "outputs": [
    {
     "data": {
      "text/html": [
       "<div>\n",
       "<style scoped>\n",
       "    .dataframe tbody tr th:only-of-type {\n",
       "        vertical-align: middle;\n",
       "    }\n",
       "\n",
       "    .dataframe tbody tr th {\n",
       "        vertical-align: top;\n",
       "    }\n",
       "\n",
       "    .dataframe thead th {\n",
       "        text-align: right;\n",
       "    }\n",
       "</style>\n",
       "<table border=\"1\" class=\"dataframe\">\n",
       "  <thead>\n",
       "    <tr style=\"text-align: right;\">\n",
       "      <th></th>\n",
       "      <th>Text</th>\n",
       "      <th>Speaker</th>\n",
       "    </tr>\n",
       "  </thead>\n",
       "  <tbody>\n",
       "    <tr>\n",
       "      <th>0</th>\n",
       "      <td>central perk.</td>\n",
       "      <td>break</td>\n",
       "    </tr>\n",
       "    <tr>\n",
       "      <th>1</th>\n",
       "      <td>there's nothing to tell! he's just some guy i ...</td>\n",
       "      <td>monica</td>\n",
       "    </tr>\n",
       "    <tr>\n",
       "      <th>2</th>\n",
       "      <td>c'mon, you're going out with the guy! there's ...</td>\n",
       "      <td>joey</td>\n",
       "    </tr>\n",
       "    <tr>\n",
       "      <th>3</th>\n",
       "      <td>so does he have a hump? a hump and a hairpiece?</td>\n",
       "      <td>chandler</td>\n",
       "    </tr>\n",
       "    <tr>\n",
       "      <th>4</th>\n",
       "      <td>wait, does he eat chalk?</td>\n",
       "      <td>phoebe</td>\n",
       "    </tr>\n",
       "    <tr>\n",
       "      <th>...</th>\n",
       "      <td>...</td>\n",
       "      <td>...</td>\n",
       "    </tr>\n",
       "    <tr>\n",
       "      <th>63484</th>\n",
       "      <td>yeah, yeah, oh!</td>\n",
       "      <td>ross</td>\n",
       "    </tr>\n",
       "    <tr>\n",
       "      <th>63485</th>\n",
       "      <td>oh! oh, i'm so happy.</td>\n",
       "      <td>rachel</td>\n",
       "    </tr>\n",
       "    <tr>\n",
       "      <th>63486</th>\n",
       "      <td>then i'm happy too.</td>\n",
       "      <td>ross</td>\n",
       "    </tr>\n",
       "    <tr>\n",
       "      <th>63487</th>\n",
       "      <td>estelle's memorial service. joey is giving a s...</td>\n",
       "      <td>break</td>\n",
       "    </tr>\n",
       "    <tr>\n",
       "      <th>63488</th>\n",
       "      <td>thank you all for coming. we're here today to ...</td>\n",
       "      <td>joey</td>\n",
       "    </tr>\n",
       "  </tbody>\n",
       "</table>\n",
       "<p>63489 rows × 2 columns</p>\n",
       "</div>"
      ],
      "text/plain": [
       "                                                    Text   Speaker\n",
       "0                                          central perk.     break\n",
       "1      there's nothing to tell! he's just some guy i ...    monica\n",
       "2      c'mon, you're going out with the guy! there's ...      joey\n",
       "3        so does he have a hump? a hump and a hairpiece?  chandler\n",
       "4                               wait, does he eat chalk?    phoebe\n",
       "...                                                  ...       ...\n",
       "63484                                    yeah, yeah, oh!      ross\n",
       "63485                              oh! oh, i'm so happy.    rachel\n",
       "63486                                then i'm happy too.      ross\n",
       "63487  estelle's memorial service. joey is giving a s...     break\n",
       "63488  thank you all for coming. we're here today to ...      joey\n",
       "\n",
       "[63489 rows x 2 columns]"
      ]
     },
     "execution_count": 2,
     "metadata": {},
     "output_type": "execute_result"
    }
   ],
   "source": [
    "DATA_FOLDER = 'data'\n",
    "\n",
    "df = pd.read_csv('data\\\\Friends_processed.csv')\n",
    "df"
   ]
  },
  {
   "cell_type": "markdown",
   "metadata": {},
   "source": [
    "Задаем основные параметры обработки:\n",
    "\n",
    "- BREAK_LABEL - метка разрыва диалогов\n",
    "- CHARACT - выбранный персонаж\n",
    "- CONT_DEPTH - глубина контекста"
   ]
  },
  {
   "cell_type": "code",
   "execution_count": 3,
   "metadata": {},
   "outputs": [],
   "source": [
    "BREAK_LABEL = 'break'\n",
    "CHARACT = 'chandler'\n",
    "CONT_DEPTH = 8"
   ]
  },
  {
   "cell_type": "markdown",
   "metadata": {},
   "source": [
    "Обрабатываем реплики персонажей следующим образом: сначала записываются все реплики, предшествующие реплике выбранного персонажа, далее пишется реплика персонажа. Процедура повторяется до тех пор, пока не будет достигнута метка break или заданная глубина контекста CONT_DEPTH.\n",
    "\n",
    "Если диалог начинается с реплики выбранного персонажа, она не добавляется в датасет т.к. у нее нет предшествующей реплики"
   ]
  },
  {
   "cell_type": "code",
   "execution_count": 33,
   "metadata": {},
   "outputs": [
    {
     "name": "stderr",
     "output_type": "stream",
     "text": [
      "63489it [00:03, 17737.18it/s]\n"
     ]
    }
   ],
   "source": [
    "data = []\n",
    "bank_repl = []\n",
    "dialog = []\n",
    "\n",
    "for index, row in tqdm(df.iterrows()):\n",
    "    if row['Speaker'] == CHARACT and len(bank_repl) > 0:        \n",
    "        question = ''\n",
    "        for i in range(min(len(bank_repl), REPL_DEPTH), 0, -1):\n",
    "            question = question + ' ' + str(bank_repl[-i])\n",
    "        dialog.append(question)\n",
    "        dialog.append(row['Text'])        \n",
    "        bank_repl.clear()\n",
    "    else:    \n",
    "        bank_repl.append(row['Text'])\n",
    "        \n",
    "    if len(dialog) == CONT_DEPTH:\n",
    "        data.append(copy.deepcopy(dialog))\n",
    "        dialog = dialog[2:]\n",
    "    \n",
    "    if row['Speaker'] == BREAK_LABEL:\n",
    "        if len(dialog) > 1:\n",
    "            data.append(copy.deepcopy(dialog))\n",
    "        dialog.clear()\n",
    "        bank_repl.clear()"
   ]
  },
  {
   "cell_type": "markdown",
   "metadata": {},
   "source": [
    "Выводим несколько диалогов для проверки правильности работы алгоритма"
   ]
  },
  {
   "cell_type": "code",
   "execution_count": 34,
   "metadata": {},
   "outputs": [
    {
     "data": {
      "text/plain": [
       "[\" there's nothing to tell! he's just some guy i work with! c'mon, you're going out with the guy! there's gotta be something wrong with him!\",\n",
       " 'so does he have a hump? a hump and a hairpiece?',\n",
       " \" just, 'cause, i don't want her to go through what i went through with carl- oh! okay, everybody relax. this is not even a date. it's just two people going out to dinner and- not having s*x.\",\n",
       " 'sounds like a date to me.']"
      ]
     },
     "execution_count": 34,
     "metadata": {},
     "output_type": "execute_result"
    }
   ],
   "source": [
    "data[0]"
   ]
  },
  {
   "cell_type": "code",
   "execution_count": 35,
   "metadata": {},
   "outputs": [
    {
     "data": {
      "text/plain": [
       "[\" alright, so i'm back in high school, i'm standing in the middle of the cafeteria, and i realise i am totally naked. oh, yeah. had that dream.\",\n",
       " \"then i look down, and i realise there's a phone... there.\",\n",
       " ' instead of...?',\n",
       " \"that's right.\",\n",
       " ' never had that dream. no.',\n",
       " \"all of a sudden, the phone starts to ring. and it turns out it's my mother, which is very weird, because- she never calls me!\"]"
      ]
     },
     "execution_count": 35,
     "metadata": {},
     "output_type": "execute_result"
    }
   ],
   "source": [
    "data[1]"
   ]
  },
  {
   "cell_type": "code",
   "execution_count": 36,
   "metadata": {},
   "outputs": [
    {
     "data": {
      "text/plain": [
       "[' are you okay, sweetie? i just feel like someone reached down my throat, grabbed my small intestine, pulled it out of my mouth and tied it around my neck...',\n",
       " 'cookie?',\n",
       " \" and you never knew she was a lesbian... no!! okay?! why does everyone keep fixating on that? she didn't know, how should i know?\",\n",
       " 'sometimes i wish i was a lesbian... did i say that out loud?',\n",
       " \" strip joint! c'mon, you're single! have some hormones! i don't want to be single, okay? i just... i just- i just wanna be married again!\",\n",
       " 'and i just want a million dollars!']"
      ]
     },
     "execution_count": 36,
     "metadata": {},
     "output_type": "execute_result"
    }
   ],
   "source": [
    "data[2]"
   ]
  },
  {
   "cell_type": "code",
   "execution_count": 37,
   "metadata": {},
   "outputs": [
    {
     "data": {
      "text/plain": [
       "[\" now i'm guessing that he bought her the big pipe organ, and she's really not happy about it. daddy, i just... i can't marry him! i'm sorry. i just don't love him. well, it matters to me!\",\n",
       " 'ooh, she should not be wearing those pants.']"
      ]
     },
     "execution_count": 37,
     "metadata": {},
     "output_type": "execute_result"
    }
   ],
   "source": [
    "data[3]"
   ]
  },
  {
   "cell_type": "markdown",
   "metadata": {},
   "source": [
    "Всего получается 5516 диалог с ответами"
   ]
  },
  {
   "cell_type": "code",
   "execution_count": 39,
   "metadata": {},
   "outputs": [
    {
     "data": {
      "text/plain": [
       "5516"
      ]
     },
     "execution_count": 39,
     "metadata": {},
     "output_type": "execute_result"
    }
   ],
   "source": [
    "len(data)"
   ]
  },
  {
   "cell_type": "markdown",
   "metadata": {},
   "source": [
    "Строим диаграмму для распределения контекста по длине, видим, что все контексты длиннее максимальной глубины сконцентировались в контексте с длиной = CONT_DEPTH. В каждом диалоге может быть только четный набор реплик т.к. нас не интересуют диалоги, начинающиеся с реплики выбранного персонажа или заканчивающиеся репликой другого персонажа"
   ]
  },
  {
   "cell_type": "code",
   "execution_count": 40,
   "metadata": {},
   "outputs": [],
   "source": [
    "len_cont = {}\n",
    "\n",
    "for item in data:\n",
    "    if len(item) in len_cont:\n",
    "        len_cont[len(item)] += 1\n",
    "    else:\n",
    "        len_cont[len(item)] = 1"
   ]
  },
  {
   "cell_type": "code",
   "execution_count": 41,
   "metadata": {},
   "outputs": [
    {
     "data": {
      "image/png": "[encoded data removed]",
      "text/plain": [
       "<Figure size 640x480 with 1 Axes>"
      ]
     },
     "metadata": {},
     "output_type": "display_data"
    }
   ],
   "source": [
    "plt.ylabel('Количество реплик')\n",
    "plt.xlabel('Глубина контекста')\n",
    "plt.bar(len_cont.keys(), len_cont.values(), color='g');"
   ]
  },
  {
   "cell_type": "code",
   "execution_count": 42,
   "metadata": {},
   "outputs": [
    {
     "name": "stdout",
     "output_type": "stream",
     "text": [
      "[WinError 183] Cannot create a file when that file already exists: 'data'\n"
     ]
    }
   ],
   "source": [
    "try:\n",
    "    os.mkdir(DATA_FOLDER)\n",
    "except OSError as error:\n",
    "    print(error)"
   ]
  },
  {
   "cell_type": "code",
   "execution_count": 43,
   "metadata": {},
   "outputs": [],
   "source": [
    "with open(os.path.join(DATA_FOLDER, 'data.pkl'), 'wb') as file:\n",
    "    pickle.dump(data, file)"
   ]
  },
  {
   "cell_type": "code",
   "execution_count": null,
   "metadata": {},
   "outputs": [],
   "source": []
  }
 ],
 "metadata": {
  "kernelspec": {
   "display_name": "Python 3",
   "language": "python",
   "name": "python3"
  },
  "language_info": {
   "codemirror_mode": {
    "name": "ipython",
    "version": 3
   },
   "file_extension": ".py",
   "mimetype": "text/x-python",
   "name": "python",
   "nbconvert_exporter": "python",
   "pygments_lexer": "ipython3",
   "version": "3.9.16"
  }
 },
 "nbformat": 4,
 "nbformat_minor": 2
}
